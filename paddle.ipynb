{
 "cells": [
  {
   "cell_type": "code",
   "execution_count": null,
   "metadata": {},
   "outputs": [],
   "source": [
    "from utils.scraper import Scraper\n",
    "\n",
    "from selenium.common.exceptions import NoSuchElementException, TimeoutException\n",
    "\n",
    "from selenium.webdriver.common.by import By\n",
    "from selenium.webdriver.common.keys import Keys\n",
    "from selenium.webdriver.remote.webelement import WebElement\n",
    "from selenium.webdriver.support import expected_conditions as EC\n",
    "from selenium.webdriver.support.wait import WebDriverWait\n",
    "\n",
    "import time"
   ]
  },
  {
   "cell_type": "code",
   "execution_count": null,
   "metadata": {},
   "outputs": [],
   "source": [
    "bot = Scraper()"
   ]
  },
  {
   "cell_type": "code",
   "execution_count": null,
   "metadata": {},
   "outputs": [],
   "source": [
    "try:\n",
    "    accept_cookies_button = WebDriverWait(bot.driver, 10).until(\n",
    "        EC.presence_of_element_located((By.XPATH, '//*[@id=\"c-p-bn\"]'))\n",
    "    )\n",
    "    print(\"Accept Cookies Button Ready!\")\n",
    "\n",
    "    accept_cookies_button.click()\n",
    "        \n",
    "    time.sleep(1)\n",
    "except TimeoutException:\n",
    "    print(\"Loading took too much time!\")"
   ]
  },
  {
   "cell_type": "code",
   "execution_count": null,
   "metadata": {},
   "outputs": [],
   "source": [
    "bot.driver.maximize_window()"
   ]
  },
  {
   "cell_type": "code",
   "execution_count": null,
   "metadata": {},
   "outputs": [],
   "source": [
    "jugadores = bot.driver.find_element(By.XPATH, '//a[@title=\"Jugadores\"]')\n",
    "\n",
    "jugadores.click()\n",
    "\n",
    "# link = jugadores.get_attribute(\"href\")\n",
    "\n",
    "# bot.driver.get(link)"
   ]
  },
  {
   "cell_type": "markdown",
   "metadata": {},
   "source": [
    "### Option 1"
   ]
  },
  {
   "cell_type": "code",
   "execution_count": null,
   "metadata": {},
   "outputs": [],
   "source": [
    "search_bar = bot.driver.find_element(By.XPATH, '//input[@id=\"player-search\"]')"
   ]
  },
  {
   "cell_type": "code",
   "execution_count": null,
   "metadata": {},
   "outputs": [],
   "source": [
    "\n",
    "search_bar.click()"
   ]
  },
  {
   "cell_type": "code",
   "execution_count": null,
   "metadata": {},
   "outputs": [],
   "source": [
    "search_bar.send_keys('Juan')"
   ]
  },
  {
   "cell_type": "code",
   "execution_count": null,
   "metadata": {},
   "outputs": [],
   "source": [
    "search_bar.send_keys(Keys.RETURN)"
   ]
  },
  {
   "cell_type": "markdown",
   "metadata": {},
   "source": [
    "### Option 2"
   ]
  },
  {
   "cell_type": "code",
   "execution_count": null,
   "metadata": {},
   "outputs": [],
   "source": [
    "container = bot.driver.find_element(By.XPATH, '//div[@class=\"c-ranking c-ranking--half\"]')\n",
    "containers = container.find_elements(By.XPATH, './div[@class=\"c-ranking__block\"]')\n",
    "\n",
    "male_container = containers[0]\n",
    "female_container = containers[1]"
   ]
  },
  {
   "cell_type": "code",
   "execution_count": null,
   "metadata": {},
   "outputs": [],
   "source": [
    "female_container = female_container.find_element(By.XPATH, './ul')\n",
    "\n",
    "female_players = female_container.find_elements(By.XPATH, './li')"
   ]
  },
  {
   "cell_type": "code",
   "execution_count": null,
   "metadata": {},
   "outputs": [],
   "source": [
    "female_players"
   ]
  },
  {
   "cell_type": "markdown",
   "metadata": {},
   "source": [
    "### New class"
   ]
  },
  {
   "cell_type": "code",
   "execution_count": 1,
   "metadata": {},
   "outputs": [],
   "source": [
    "from utils.scraper import PaddleScraper\n",
    "import time\n",
    "\n",
    "bot = PaddleScraper()"
   ]
  },
  {
   "cell_type": "code",
   "execution_count": 2,
   "metadata": {},
   "outputs": [],
   "source": [
    "\n",
    "bot.search_player('Candido Jorge Alfaro')"
   ]
  },
  {
   "cell_type": "code",
   "execution_count": 3,
   "metadata": {},
   "outputs": [],
   "source": [
    "candido_data = bot.get_info()"
   ]
  },
  {
   "cell_type": "code",
   "execution_count": 4,
   "metadata": {},
   "outputs": [
    {
     "data": {
      "text/html": [
       "<div>\n",
       "<style scoped>\n",
       "    .dataframe tbody tr th:only-of-type {\n",
       "        vertical-align: middle;\n",
       "    }\n",
       "\n",
       "    .dataframe tbody tr th {\n",
       "        vertical-align: top;\n",
       "    }\n",
       "\n",
       "    .dataframe thead th {\n",
       "        text-align: right;\n",
       "    }\n",
       "</style>\n",
       "<table border=\"1\" class=\"dataframe\">\n",
       "  <thead>\n",
       "    <tr style=\"text-align: right;\">\n",
       "      <th></th>\n",
       "      <th>Tournament</th>\n",
       "      <th>Date</th>\n",
       "      <th>Points</th>\n",
       "    </tr>\n",
       "  </thead>\n",
       "  <tbody>\n",
       "    <tr>\n",
       "      <th>0</th>\n",
       "      <td>Cervezas Victoria Málaga Open 2022</td>\n",
       "      <td>24/07/2022</td>\n",
       "      <td>19</td>\n",
       "    </tr>\n",
       "    <tr>\n",
       "      <th>1</th>\n",
       "      <td>Valladolid Master Caja Rural de Zamora 2022</td>\n",
       "      <td>26/06/2022</td>\n",
       "      <td>13</td>\n",
       "    </tr>\n",
       "    <tr>\n",
       "      <th>2</th>\n",
       "      <td>Human French Padel Open 2022</td>\n",
       "      <td>19/06/2022</td>\n",
       "      <td>8</td>\n",
       "    </tr>\n",
       "    <tr>\n",
       "      <th>3</th>\n",
       "      <td>Vienna Padel Open 2022</td>\n",
       "      <td>12/06/2022</td>\n",
       "      <td>19</td>\n",
       "    </tr>\n",
       "    <tr>\n",
       "      <th>4</th>\n",
       "      <td>Cervezas Victoria Marbella Master 2022</td>\n",
       "      <td>05/06/2022</td>\n",
       "      <td>35</td>\n",
       "    </tr>\n",
       "    <tr>\n",
       "      <th>5</th>\n",
       "      <td>Tau Cerámica Mallorca Challenger 2022</td>\n",
       "      <td>29/05/2022</td>\n",
       "      <td>43</td>\n",
       "    </tr>\n",
       "    <tr>\n",
       "      <th>6</th>\n",
       "      <td>Circus Brussels Padel Open 2022</td>\n",
       "      <td>08/05/2022</td>\n",
       "      <td>8</td>\n",
       "    </tr>\n",
       "    <tr>\n",
       "      <th>7</th>\n",
       "      <td>Tau Cerámica Albacete Challenger 2022</td>\n",
       "      <td>01/05/2022</td>\n",
       "      <td>10</td>\n",
       "    </tr>\n",
       "    <tr>\n",
       "      <th>8</th>\n",
       "      <td>Estrella Damm Alicante Open 2022</td>\n",
       "      <td>10/04/2022</td>\n",
       "      <td>19</td>\n",
       "    </tr>\n",
       "    <tr>\n",
       "      <th>9</th>\n",
       "      <td>Tau Cerámica Getafe Challenger 2022</td>\n",
       "      <td>03/04/2022</td>\n",
       "      <td>60</td>\n",
       "    </tr>\n",
       "    <tr>\n",
       "      <th>10</th>\n",
       "      <td>Vigo Open 2022</td>\n",
       "      <td>27/03/2022</td>\n",
       "      <td>8</td>\n",
       "    </tr>\n",
       "    <tr>\n",
       "      <th>11</th>\n",
       "      <td>Estrella Damm Reus Costa Daurada Open 2022</td>\n",
       "      <td>13/03/2022</td>\n",
       "      <td>19</td>\n",
       "    </tr>\n",
       "    <tr>\n",
       "      <th>12</th>\n",
       "      <td>Blockchain.com Miami Padel Open 2022</td>\n",
       "      <td>27/02/2022</td>\n",
       "      <td>19</td>\n",
       "    </tr>\n",
       "    <tr>\n",
       "      <th>13</th>\n",
       "      <td>FIP RISE MIJAS</td>\n",
       "      <td>08/12/2021</td>\n",
       "      <td>10</td>\n",
       "    </tr>\n",
       "    <tr>\n",
       "      <th>14</th>\n",
       "      <td>CDMX OPEN 2021</td>\n",
       "      <td>05/12/2021</td>\n",
       "      <td>8</td>\n",
       "    </tr>\n",
       "    <tr>\n",
       "      <th>15</th>\n",
       "      <td>Cervezas Victoria Córdoba Open 2021</td>\n",
       "      <td>24/10/2021</td>\n",
       "      <td>8</td>\n",
       "    </tr>\n",
       "    <tr>\n",
       "      <th>16</th>\n",
       "      <td>Estrella Damm Menorca Open 2021</td>\n",
       "      <td>10/10/2021</td>\n",
       "      <td>5</td>\n",
       "    </tr>\n",
       "    <tr>\n",
       "      <th>17</th>\n",
       "      <td>Lugo Open 2021</td>\n",
       "      <td>26/09/2021</td>\n",
       "      <td>0</td>\n",
       "    </tr>\n",
       "    <tr>\n",
       "      <th>18</th>\n",
       "      <td>Estrella Damm Barcelona Master 2021</td>\n",
       "      <td>19/09/2021</td>\n",
       "      <td>8</td>\n",
       "    </tr>\n",
       "    <tr>\n",
       "      <th>19</th>\n",
       "      <td>Sardegna Open 2021</td>\n",
       "      <td>12/09/2021</td>\n",
       "      <td>19</td>\n",
       "    </tr>\n",
       "    <tr>\n",
       "      <th>20</th>\n",
       "      <td>Cascais Padel Master 2021</td>\n",
       "      <td>05/09/2021</td>\n",
       "      <td>31</td>\n",
       "    </tr>\n",
       "    <tr>\n",
       "      <th>21</th>\n",
       "      <td>Fip Star Sardegna Open</td>\n",
       "      <td>05/09/2021</td>\n",
       "      <td>3</td>\n",
       "    </tr>\n",
       "    <tr>\n",
       "      <th>22</th>\n",
       "      <td>Tau Cerámica Calanda Challenger 2021</td>\n",
       "      <td>29/08/2021</td>\n",
       "      <td>6</td>\n",
       "    </tr>\n",
       "  </tbody>\n",
       "</table>\n",
       "</div>"
      ],
      "text/plain": [
       "                                     Tournament        Date Points\n",
       "0            Cervezas Victoria Málaga Open 2022  24/07/2022     19\n",
       "1   Valladolid Master Caja Rural de Zamora 2022  26/06/2022     13\n",
       "2                  Human French Padel Open 2022  19/06/2022      8\n",
       "3                        Vienna Padel Open 2022  12/06/2022     19\n",
       "4        Cervezas Victoria Marbella Master 2022  05/06/2022     35\n",
       "5         Tau Cerámica Mallorca Challenger 2022  29/05/2022     43\n",
       "6               Circus Brussels Padel Open 2022  08/05/2022      8\n",
       "7         Tau Cerámica Albacete Challenger 2022  01/05/2022     10\n",
       "8              Estrella Damm Alicante Open 2022  10/04/2022     19\n",
       "9           Tau Cerámica Getafe Challenger 2022  03/04/2022     60\n",
       "10                               Vigo Open 2022  27/03/2022      8\n",
       "11   Estrella Damm Reus Costa Daurada Open 2022  13/03/2022     19\n",
       "12         Blockchain.com Miami Padel Open 2022  27/02/2022     19\n",
       "13                               FIP RISE MIJAS  08/12/2021     10\n",
       "14                               CDMX OPEN 2021  05/12/2021      8\n",
       "15          Cervezas Victoria Córdoba Open 2021  24/10/2021      8\n",
       "16              Estrella Damm Menorca Open 2021  10/10/2021      5\n",
       "17                               Lugo Open 2021  26/09/2021      0\n",
       "18          Estrella Damm Barcelona Master 2021  19/09/2021      8\n",
       "19                           Sardegna Open 2021  12/09/2021     19\n",
       "20                    Cascais Padel Master 2021  05/09/2021     31\n",
       "21                       Fip Star Sardegna Open  05/09/2021      3\n",
       "22         Tau Cerámica Calanda Challenger 2021  29/08/2021      6"
      ]
     },
     "execution_count": 4,
     "metadata": {},
     "output_type": "execute_result"
    }
   ],
   "source": [
    "candido_data"
   ]
  },
  {
   "cell_type": "code",
   "execution_count": null,
   "metadata": {},
   "outputs": [],
   "source": [
    "links = bot.search_all_players()"
   ]
  },
  {
   "cell_type": "code",
   "execution_count": null,
   "metadata": {},
   "outputs": [],
   "source": [
    "players = {}\n",
    "\n",
    "for link in links:\n",
    "    name = link.split('/')[-2]\n",
    "    bot.goto_link(link)\n",
    "    \n",
    "    time.sleep(1)\n",
    "    \n",
    "    players[name] = bot.get_info()"
   ]
  },
  {
   "cell_type": "code",
   "execution_count": null,
   "metadata": {},
   "outputs": [],
   "source": [
    "len(players)"
   ]
  },
  {
   "cell_type": "markdown",
   "metadata": {},
   "source": [
    "### End"
   ]
  },
  {
   "cell_type": "code",
   "execution_count": null,
   "metadata": {},
   "outputs": [],
   "source": [
    "bot.quit()"
   ]
  }
 ],
 "metadata": {
  "kernelspec": {
   "display_name": "Python 3.10.4 ('paddle_env')",
   "language": "python",
   "name": "python3"
  },
  "language_info": {
   "codemirror_mode": {
    "name": "ipython",
    "version": 3
   },
   "file_extension": ".py",
   "mimetype": "text/x-python",
   "name": "python",
   "nbconvert_exporter": "python",
   "pygments_lexer": "ipython3",
   "version": "3.10.4"
  },
  "orig_nbformat": 4,
  "vscode": {
   "interpreter": {
    "hash": "2449cdd63f50d4c2c5230f6c6faff732807e8cb5a98249f50fded79909567b58"
   }
  }
 },
 "nbformat": 4,
 "nbformat_minor": 2
}
