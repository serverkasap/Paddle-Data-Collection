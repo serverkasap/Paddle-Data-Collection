{
 "cells": [
  {
   "cell_type": "code",
   "execution_count": null,
   "metadata": {},
   "outputs": [],
   "source": []
  }
 ],
 "metadata": {
  "kernelspec": {
   "display_name": "Python 3.10.4 ('paddle_env')",
   "language": "python",
   "name": "python3"
  },
  "language_info": {
   "name": "python",
   "version": "3.10.4"
  },
  "orig_nbformat": 4,
  "vscode": {
   "interpreter": {
    "hash": "2449cdd63f50d4c2c5230f6c6faff732807e8cb5a98249f50fded79909567b58"
   }
  }
 },
 "nbformat": 4,
 "nbformat_minor": 2
}
